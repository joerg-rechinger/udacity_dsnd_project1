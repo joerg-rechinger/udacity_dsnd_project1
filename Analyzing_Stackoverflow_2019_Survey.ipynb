{
 "cells": [
  {
   "cell_type": "markdown",
   "metadata": {},
   "source": [
    "# Analyzing StackOverflow's Developer Survey data from 2019"
   ]
  },
  {
   "cell_type": "markdown",
   "metadata": {},
   "source": [
    "### Business Understanding"
   ]
  },
  {
   "cell_type": "markdown",
   "metadata": {},
   "source": [
    "Coding and learning programming languages is getting more and more important as today's business world is getting more and more digitalized. Analyzing the data from StackOverflow's developer survey, I want to get a clearer picture of when today's coders got in touch with coding for the first time.\n",
    "In the following I want to address four questions:\n",
    "\n",
    "-Are there differences between continents with regard to the age of first coding experience?\n",
    "\n",
    "-Are there differences between different age groups when it comes to their first time of coding?\n",
    "\n",
    "-Is there a difference between gender regarding the age of 1st coding?\n",
    "\n",
    "-Can we find evidence for a gender pay gap?"
   ]
  },
  {
   "cell_type": "markdown",
   "metadata": {},
   "source": [
    "### Data Understanding"
   ]
  },
  {
   "cell_type": "code",
   "execution_count": 1,
   "metadata": {},
   "outputs": [],
   "source": [
    "#Import packages\n",
    "import pandas as pd\n",
    "import numpy as np\n",
    "import zipfile\n",
    "import matplotlib.pyplot as plt\n",
    "import seaborn as sns\n",
    "from scipy.stats import ttest_ind\n",
    "\n",
    "%matplotlib inline"
   ]
  },
  {
   "cell_type": "code",
   "execution_count": 2,
   "metadata": {},
   "outputs": [],
   "source": [
    "#Unzip the survey data\n",
    "#with zipfile.ZipFile(\"developer_survey_2019.zip\",\"r\") as zip_ref:\n",
    "#    zip_ref.extractall(\"developer_survey_2019.csv\")"
   ]
  },
  {
   "cell_type": "code",
   "execution_count": 3,
   "metadata": {},
   "outputs": [],
   "source": [
    "#Read in dataframe\n",
    "df=pd.read_csv('developer_survey_2019.csv/survey_results_public.csv')"
   ]
  },
  {
   "cell_type": "code",
   "execution_count": 4,
   "metadata": {},
   "outputs": [
    {
     "name": "stdout",
     "output_type": "stream",
     "text": [
      "(88883, 85)\n",
      "<class 'pandas.core.frame.DataFrame'>\n",
      "RangeIndex: 88883 entries, 0 to 88882\n",
      "Data columns (total 85 columns):\n",
      "Respondent                88883 non-null int64\n",
      "MainBranch                88331 non-null object\n",
      "Hobbyist                  88883 non-null object\n",
      "OpenSourcer               88883 non-null object\n",
      "OpenSource                86842 non-null object\n",
      "Employment                87181 non-null object\n",
      "Country                   88751 non-null object\n",
      "Student                   87014 non-null object\n",
      "EdLevel                   86390 non-null object\n",
      "UndergradMajor            75614 non-null object\n",
      "EduOther                  84260 non-null object\n",
      "OrgSize                   71791 non-null object\n",
      "DevType                   81335 non-null object\n",
      "YearsCode                 87938 non-null object\n",
      "Age1stCode                87634 non-null object\n",
      "YearsCodePro              74331 non-null object\n",
      "CareerSat                 72847 non-null object\n",
      "JobSat                    70988 non-null object\n",
      "MgrIdiot                  61159 non-null object\n",
      "MgrMoney                  61157 non-null object\n",
      "MgrWant                   61232 non-null object\n",
      "JobSeek                   80555 non-null object\n",
      "LastHireDate              79854 non-null object\n",
      "LastInt                   67155 non-null object\n",
      "FizzBuzz                  71344 non-null object\n",
      "JobFactors                79371 non-null object\n",
      "ResumeUpdate              77877 non-null object\n",
      "CurrencySymbol            71392 non-null object\n",
      "CurrencyDesc              71392 non-null object\n",
      "CompTotal                 55945 non-null float64\n",
      "CompFreq                  63268 non-null object\n",
      "ConvertedComp             55823 non-null float64\n",
      "WorkWeekHrs               64503 non-null float64\n",
      "WorkPlan                  68914 non-null object\n",
      "WorkChallenge             68141 non-null object\n",
      "WorkRemote                70284 non-null object\n",
      "WorkLoc                   70055 non-null object\n",
      "ImpSyn                    71779 non-null object\n",
      "CodeRev                   70390 non-null object\n",
      "CodeRevHrs                49790 non-null float64\n",
      "UnitTests                 62668 non-null object\n",
      "PurchaseHow               61108 non-null object\n",
      "PurchaseWhat              62029 non-null object\n",
      "LanguageWorkedWith        87569 non-null object\n",
      "LanguageDesireNextYear    84088 non-null object\n",
      "DatabaseWorkedWith        76026 non-null object\n",
      "DatabaseDesireNextYear    69147 non-null object\n",
      "PlatformWorkedWith        80714 non-null object\n",
      "PlatformDesireNextYear    77443 non-null object\n",
      "WebFrameWorkedWith        65022 non-null object\n",
      "WebFrameDesireNextYear    62944 non-null object\n",
      "MiscTechWorkedWith        59586 non-null object\n",
      "MiscTechDesireNextYear    64511 non-null object\n",
      "DevEnviron                87317 non-null object\n",
      "OpSys                     87851 non-null object\n",
      "Containers                85366 non-null object\n",
      "BlockchainOrg             48175 non-null object\n",
      "BlockchainIs              60165 non-null object\n",
      "BetterLife                86269 non-null object\n",
      "ITperson                  87141 non-null object\n",
      "OffOn                     86663 non-null object\n",
      "SocialMedia               84437 non-null object\n",
      "Extraversion              87305 non-null object\n",
      "ScreenName                80486 non-null object\n",
      "SOVisit1st                83877 non-null object\n",
      "SOVisitFreq               88263 non-null object\n",
      "SOVisitTo                 88086 non-null object\n",
      "SOFindAnswer              87816 non-null object\n",
      "SOTimeSaved               86344 non-null object\n",
      "SOHowMuchTime             68378 non-null object\n",
      "SOAccount                 87828 non-null object\n",
      "SOPartFreq                74692 non-null object\n",
      "SOJobs                    88066 non-null object\n",
      "EntTeams                  87841 non-null object\n",
      "SOComm                    88131 non-null object\n",
      "WelcomeChange             85855 non-null object\n",
      "SONewContent              69560 non-null object\n",
      "Age                       79210 non-null float64\n",
      "Gender                    85406 non-null object\n",
      "Trans                     83607 non-null object\n",
      "Sexuality                 76147 non-null object\n",
      "Ethnicity                 76668 non-null object\n",
      "Dependents                83059 non-null object\n",
      "SurveyLength              86984 non-null object\n",
      "SurveyEase                87081 non-null object\n",
      "dtypes: float64(5), int64(1), object(79)\n",
      "memory usage: 57.6+ MB\n",
      "None\n"
     ]
    }
   ],
   "source": [
    "#Check some statistics\n",
    "print(df.shape)\n",
    "print(df.info())"
   ]
  },
  {
   "cell_type": "code",
   "execution_count": 5,
   "metadata": {},
   "outputs": [
    {
     "data": {
      "text/html": [
       "<div>\n",
       "<style scoped>\n",
       "    .dataframe tbody tr th:only-of-type {\n",
       "        vertical-align: middle;\n",
       "    }\n",
       "\n",
       "    .dataframe tbody tr th {\n",
       "        vertical-align: top;\n",
       "    }\n",
       "\n",
       "    .dataframe thead th {\n",
       "        text-align: right;\n",
       "    }\n",
       "</style>\n",
       "<table border=\"1\" class=\"dataframe\">\n",
       "  <thead>\n",
       "    <tr style=\"text-align: right;\">\n",
       "      <th></th>\n",
       "      <th>Respondent</th>\n",
       "      <th>MainBranch</th>\n",
       "      <th>Hobbyist</th>\n",
       "      <th>OpenSourcer</th>\n",
       "      <th>OpenSource</th>\n",
       "      <th>Employment</th>\n",
       "      <th>Country</th>\n",
       "      <th>Student</th>\n",
       "      <th>EdLevel</th>\n",
       "      <th>UndergradMajor</th>\n",
       "      <th>...</th>\n",
       "      <th>WelcomeChange</th>\n",
       "      <th>SONewContent</th>\n",
       "      <th>Age</th>\n",
       "      <th>Gender</th>\n",
       "      <th>Trans</th>\n",
       "      <th>Sexuality</th>\n",
       "      <th>Ethnicity</th>\n",
       "      <th>Dependents</th>\n",
       "      <th>SurveyLength</th>\n",
       "      <th>SurveyEase</th>\n",
       "    </tr>\n",
       "  </thead>\n",
       "  <tbody>\n",
       "    <tr>\n",
       "      <th>0</th>\n",
       "      <td>1</td>\n",
       "      <td>I am a student who is learning to code</td>\n",
       "      <td>Yes</td>\n",
       "      <td>Never</td>\n",
       "      <td>The quality of OSS and closed source software ...</td>\n",
       "      <td>Not employed, and not looking for work</td>\n",
       "      <td>United Kingdom</td>\n",
       "      <td>No</td>\n",
       "      <td>Primary/elementary school</td>\n",
       "      <td>NaN</td>\n",
       "      <td>...</td>\n",
       "      <td>Just as welcome now as I felt last year</td>\n",
       "      <td>Tech articles written by other developers;Indu...</td>\n",
       "      <td>14.0</td>\n",
       "      <td>Man</td>\n",
       "      <td>No</td>\n",
       "      <td>Straight / Heterosexual</td>\n",
       "      <td>NaN</td>\n",
       "      <td>No</td>\n",
       "      <td>Appropriate in length</td>\n",
       "      <td>Neither easy nor difficult</td>\n",
       "    </tr>\n",
       "    <tr>\n",
       "      <th>1</th>\n",
       "      <td>2</td>\n",
       "      <td>I am a student who is learning to code</td>\n",
       "      <td>No</td>\n",
       "      <td>Less than once per year</td>\n",
       "      <td>The quality of OSS and closed source software ...</td>\n",
       "      <td>Not employed, but looking for work</td>\n",
       "      <td>Bosnia and Herzegovina</td>\n",
       "      <td>Yes, full-time</td>\n",
       "      <td>Secondary school (e.g. American high school, G...</td>\n",
       "      <td>NaN</td>\n",
       "      <td>...</td>\n",
       "      <td>Just as welcome now as I felt last year</td>\n",
       "      <td>Tech articles written by other developers;Indu...</td>\n",
       "      <td>19.0</td>\n",
       "      <td>Man</td>\n",
       "      <td>No</td>\n",
       "      <td>Straight / Heterosexual</td>\n",
       "      <td>NaN</td>\n",
       "      <td>No</td>\n",
       "      <td>Appropriate in length</td>\n",
       "      <td>Neither easy nor difficult</td>\n",
       "    </tr>\n",
       "    <tr>\n",
       "      <th>2</th>\n",
       "      <td>3</td>\n",
       "      <td>I am not primarily a developer, but I write co...</td>\n",
       "      <td>Yes</td>\n",
       "      <td>Never</td>\n",
       "      <td>The quality of OSS and closed source software ...</td>\n",
       "      <td>Employed full-time</td>\n",
       "      <td>Thailand</td>\n",
       "      <td>No</td>\n",
       "      <td>Bachelor’s degree (BA, BS, B.Eng., etc.)</td>\n",
       "      <td>Web development or web design</td>\n",
       "      <td>...</td>\n",
       "      <td>Just as welcome now as I felt last year</td>\n",
       "      <td>Tech meetups or events in your area;Courses on...</td>\n",
       "      <td>28.0</td>\n",
       "      <td>Man</td>\n",
       "      <td>No</td>\n",
       "      <td>Straight / Heterosexual</td>\n",
       "      <td>NaN</td>\n",
       "      <td>Yes</td>\n",
       "      <td>Appropriate in length</td>\n",
       "      <td>Neither easy nor difficult</td>\n",
       "    </tr>\n",
       "    <tr>\n",
       "      <th>3</th>\n",
       "      <td>4</td>\n",
       "      <td>I am a developer by profession</td>\n",
       "      <td>No</td>\n",
       "      <td>Never</td>\n",
       "      <td>The quality of OSS and closed source software ...</td>\n",
       "      <td>Employed full-time</td>\n",
       "      <td>United States</td>\n",
       "      <td>No</td>\n",
       "      <td>Bachelor’s degree (BA, BS, B.Eng., etc.)</td>\n",
       "      <td>Computer science, computer engineering, or sof...</td>\n",
       "      <td>...</td>\n",
       "      <td>Just as welcome now as I felt last year</td>\n",
       "      <td>Tech articles written by other developers;Indu...</td>\n",
       "      <td>22.0</td>\n",
       "      <td>Man</td>\n",
       "      <td>No</td>\n",
       "      <td>Straight / Heterosexual</td>\n",
       "      <td>White or of European descent</td>\n",
       "      <td>No</td>\n",
       "      <td>Appropriate in length</td>\n",
       "      <td>Easy</td>\n",
       "    </tr>\n",
       "    <tr>\n",
       "      <th>4</th>\n",
       "      <td>5</td>\n",
       "      <td>I am a developer by profession</td>\n",
       "      <td>Yes</td>\n",
       "      <td>Once a month or more often</td>\n",
       "      <td>OSS is, on average, of HIGHER quality than pro...</td>\n",
       "      <td>Employed full-time</td>\n",
       "      <td>Ukraine</td>\n",
       "      <td>No</td>\n",
       "      <td>Bachelor’s degree (BA, BS, B.Eng., etc.)</td>\n",
       "      <td>Computer science, computer engineering, or sof...</td>\n",
       "      <td>...</td>\n",
       "      <td>Just as welcome now as I felt last year</td>\n",
       "      <td>Tech meetups or events in your area;Courses on...</td>\n",
       "      <td>30.0</td>\n",
       "      <td>Man</td>\n",
       "      <td>No</td>\n",
       "      <td>Straight / Heterosexual</td>\n",
       "      <td>White or of European descent;Multiracial</td>\n",
       "      <td>No</td>\n",
       "      <td>Appropriate in length</td>\n",
       "      <td>Easy</td>\n",
       "    </tr>\n",
       "  </tbody>\n",
       "</table>\n",
       "<p>5 rows × 85 columns</p>\n",
       "</div>"
      ],
      "text/plain": [
       "   Respondent                                         MainBranch Hobbyist  \\\n",
       "0           1             I am a student who is learning to code      Yes   \n",
       "1           2             I am a student who is learning to code       No   \n",
       "2           3  I am not primarily a developer, but I write co...      Yes   \n",
       "3           4                     I am a developer by profession       No   \n",
       "4           5                     I am a developer by profession      Yes   \n",
       "\n",
       "                  OpenSourcer  \\\n",
       "0                       Never   \n",
       "1     Less than once per year   \n",
       "2                       Never   \n",
       "3                       Never   \n",
       "4  Once a month or more often   \n",
       "\n",
       "                                          OpenSource  \\\n",
       "0  The quality of OSS and closed source software ...   \n",
       "1  The quality of OSS and closed source software ...   \n",
       "2  The quality of OSS and closed source software ...   \n",
       "3  The quality of OSS and closed source software ...   \n",
       "4  OSS is, on average, of HIGHER quality than pro...   \n",
       "\n",
       "                               Employment                 Country  \\\n",
       "0  Not employed, and not looking for work          United Kingdom   \n",
       "1      Not employed, but looking for work  Bosnia and Herzegovina   \n",
       "2                      Employed full-time                Thailand   \n",
       "3                      Employed full-time           United States   \n",
       "4                      Employed full-time                 Ukraine   \n",
       "\n",
       "          Student                                            EdLevel  \\\n",
       "0              No                          Primary/elementary school   \n",
       "1  Yes, full-time  Secondary school (e.g. American high school, G...   \n",
       "2              No           Bachelor’s degree (BA, BS, B.Eng., etc.)   \n",
       "3              No           Bachelor’s degree (BA, BS, B.Eng., etc.)   \n",
       "4              No           Bachelor’s degree (BA, BS, B.Eng., etc.)   \n",
       "\n",
       "                                      UndergradMajor  ...  \\\n",
       "0                                                NaN  ...   \n",
       "1                                                NaN  ...   \n",
       "2                      Web development or web design  ...   \n",
       "3  Computer science, computer engineering, or sof...  ...   \n",
       "4  Computer science, computer engineering, or sof...  ...   \n",
       "\n",
       "                             WelcomeChange  \\\n",
       "0  Just as welcome now as I felt last year   \n",
       "1  Just as welcome now as I felt last year   \n",
       "2  Just as welcome now as I felt last year   \n",
       "3  Just as welcome now as I felt last year   \n",
       "4  Just as welcome now as I felt last year   \n",
       "\n",
       "                                        SONewContent   Age Gender Trans  \\\n",
       "0  Tech articles written by other developers;Indu...  14.0    Man    No   \n",
       "1  Tech articles written by other developers;Indu...  19.0    Man    No   \n",
       "2  Tech meetups or events in your area;Courses on...  28.0    Man    No   \n",
       "3  Tech articles written by other developers;Indu...  22.0    Man    No   \n",
       "4  Tech meetups or events in your area;Courses on...  30.0    Man    No   \n",
       "\n",
       "                 Sexuality                                 Ethnicity  \\\n",
       "0  Straight / Heterosexual                                       NaN   \n",
       "1  Straight / Heterosexual                                       NaN   \n",
       "2  Straight / Heterosexual                                       NaN   \n",
       "3  Straight / Heterosexual              White or of European descent   \n",
       "4  Straight / Heterosexual  White or of European descent;Multiracial   \n",
       "\n",
       "  Dependents           SurveyLength                  SurveyEase  \n",
       "0         No  Appropriate in length  Neither easy nor difficult  \n",
       "1         No  Appropriate in length  Neither easy nor difficult  \n",
       "2        Yes  Appropriate in length  Neither easy nor difficult  \n",
       "3         No  Appropriate in length                        Easy  \n",
       "4         No  Appropriate in length                        Easy  \n",
       "\n",
       "[5 rows x 85 columns]"
      ]
     },
     "execution_count": 5,
     "metadata": {},
     "output_type": "execute_result"
    }
   ],
   "source": [
    "df.head()"
   ]
  },
  {
   "cell_type": "code",
   "execution_count": 6,
   "metadata": {},
   "outputs": [
    {
     "data": {
      "text/html": [
       "<div>\n",
       "<style scoped>\n",
       "    .dataframe tbody tr th:only-of-type {\n",
       "        vertical-align: middle;\n",
       "    }\n",
       "\n",
       "    .dataframe tbody tr th {\n",
       "        vertical-align: top;\n",
       "    }\n",
       "\n",
       "    .dataframe thead th {\n",
       "        text-align: right;\n",
       "    }\n",
       "</style>\n",
       "<table border=\"1\" class=\"dataframe\">\n",
       "  <thead>\n",
       "    <tr style=\"text-align: right;\">\n",
       "      <th></th>\n",
       "      <th>Respondent</th>\n",
       "      <th>CompTotal</th>\n",
       "      <th>ConvertedComp</th>\n",
       "      <th>WorkWeekHrs</th>\n",
       "      <th>CodeRevHrs</th>\n",
       "      <th>Age</th>\n",
       "    </tr>\n",
       "  </thead>\n",
       "  <tbody>\n",
       "    <tr>\n",
       "      <th>count</th>\n",
       "      <td>88883.000000</td>\n",
       "      <td>5.594500e+04</td>\n",
       "      <td>5.582300e+04</td>\n",
       "      <td>64503.000000</td>\n",
       "      <td>49790.000000</td>\n",
       "      <td>79210.000000</td>\n",
       "    </tr>\n",
       "    <tr>\n",
       "      <th>mean</th>\n",
       "      <td>44442.000000</td>\n",
       "      <td>5.519014e+11</td>\n",
       "      <td>1.271107e+05</td>\n",
       "      <td>42.127197</td>\n",
       "      <td>5.084308</td>\n",
       "      <td>30.336699</td>\n",
       "    </tr>\n",
       "    <tr>\n",
       "      <th>std</th>\n",
       "      <td>25658.456325</td>\n",
       "      <td>7.331926e+13</td>\n",
       "      <td>2.841523e+05</td>\n",
       "      <td>37.287610</td>\n",
       "      <td>5.513931</td>\n",
       "      <td>9.178390</td>\n",
       "    </tr>\n",
       "    <tr>\n",
       "      <th>min</th>\n",
       "      <td>1.000000</td>\n",
       "      <td>0.000000e+00</td>\n",
       "      <td>0.000000e+00</td>\n",
       "      <td>1.000000</td>\n",
       "      <td>0.000000</td>\n",
       "      <td>1.000000</td>\n",
       "    </tr>\n",
       "    <tr>\n",
       "      <th>25%</th>\n",
       "      <td>22221.500000</td>\n",
       "      <td>2.000000e+04</td>\n",
       "      <td>2.577750e+04</td>\n",
       "      <td>40.000000</td>\n",
       "      <td>2.000000</td>\n",
       "      <td>24.000000</td>\n",
       "    </tr>\n",
       "    <tr>\n",
       "      <th>50%</th>\n",
       "      <td>44442.000000</td>\n",
       "      <td>6.200000e+04</td>\n",
       "      <td>5.728700e+04</td>\n",
       "      <td>40.000000</td>\n",
       "      <td>4.000000</td>\n",
       "      <td>29.000000</td>\n",
       "    </tr>\n",
       "    <tr>\n",
       "      <th>75%</th>\n",
       "      <td>66662.500000</td>\n",
       "      <td>1.200000e+05</td>\n",
       "      <td>1.000000e+05</td>\n",
       "      <td>44.750000</td>\n",
       "      <td>6.000000</td>\n",
       "      <td>35.000000</td>\n",
       "    </tr>\n",
       "    <tr>\n",
       "      <th>max</th>\n",
       "      <td>88883.000000</td>\n",
       "      <td>1.000000e+16</td>\n",
       "      <td>2.000000e+06</td>\n",
       "      <td>4850.000000</td>\n",
       "      <td>99.000000</td>\n",
       "      <td>99.000000</td>\n",
       "    </tr>\n",
       "  </tbody>\n",
       "</table>\n",
       "</div>"
      ],
      "text/plain": [
       "         Respondent     CompTotal  ConvertedComp   WorkWeekHrs    CodeRevHrs  \\\n",
       "count  88883.000000  5.594500e+04   5.582300e+04  64503.000000  49790.000000   \n",
       "mean   44442.000000  5.519014e+11   1.271107e+05     42.127197      5.084308   \n",
       "std    25658.456325  7.331926e+13   2.841523e+05     37.287610      5.513931   \n",
       "min        1.000000  0.000000e+00   0.000000e+00      1.000000      0.000000   \n",
       "25%    22221.500000  2.000000e+04   2.577750e+04     40.000000      2.000000   \n",
       "50%    44442.000000  6.200000e+04   5.728700e+04     40.000000      4.000000   \n",
       "75%    66662.500000  1.200000e+05   1.000000e+05     44.750000      6.000000   \n",
       "max    88883.000000  1.000000e+16   2.000000e+06   4850.000000     99.000000   \n",
       "\n",
       "                Age  \n",
       "count  79210.000000  \n",
       "mean      30.336699  \n",
       "std        9.178390  \n",
       "min        1.000000  \n",
       "25%       24.000000  \n",
       "50%       29.000000  \n",
       "75%       35.000000  \n",
       "max       99.000000  "
      ]
     },
     "execution_count": 6,
     "metadata": {},
     "output_type": "execute_result"
    }
   ],
   "source": [
    "#Check numeric variables\n",
    "df.describe()"
   ]
  },
  {
   "cell_type": "code",
   "execution_count": 7,
   "metadata": {},
   "outputs": [
    {
     "data": {
      "image/png": "[encoded data removed]",
      "text/plain": [
       "<Figure size 432x288 with 2 Axes>"
      ]
     },
     "metadata": {
      "needs_background": "light"
     },
     "output_type": "display_data"
    }
   ],
   "source": [
    "#correlation of numeric variables\n",
    "sns.heatmap(df.corr(), cmap=\"YlGnBu\", annot=True, fmt='.2f');"
   ]
  },
  {
   "cell_type": "markdown",
   "metadata": {},
   "source": [
    "We see rather weak correlations among the numeric variables, the strongest correlation being age and converted compensation."
   ]
  },
  {
   "cell_type": "markdown",
   "metadata": {},
   "source": [
    "### Data Preparation: Part 1"
   ]
  },
  {
   "cell_type": "code",
   "execution_count": 8,
   "metadata": {},
   "outputs": [],
   "source": [
    "#creating a generic function for plotting bar charts that can be re-used later on\n",
    "#inspired by https://scentellegher.github.io/visualization/2018/10/10/beautiful-bar-plots-matplotlib.html\n",
    "def create_barplot(x_values, y_values, x_label, chart_title, figwidth=10, figheight=6, **kwargs):\n",
    "    \"\"\" Function for creating barplots\n",
    "    INPUTS:\n",
    "    x_values: df column that should be displayed on x axis of the plot\n",
    "    y_values: df column that should be displayed on y axis of the plot\n",
    "    x_label: the label that will be displayed on the x axis\n",
    "    chart_title: Title of the chart, plotted above the graph\n",
    "    figwidth: width of figure, default=10\n",
    "    figheight: height of figure, default=6\n",
    "    **kwargs: possibility to add further variables, like y_label, if necessary > would need to be extended in the function\n",
    "    currently only plotting an x-axis title\n",
    "    OUTPUTS:\n",
    "    barplot: the graph\n",
    "    fig: the figure element\n",
    "    ax: axis element, necessary for running the autolabel function\n",
    "    \"\"\"\n",
    "    fig, ax = plt.subplots(figsize=(figwidth,figheight))\n",
    "    plt.style.use('seaborn-dark')\n",
    "    ax.set_xlabel(x_label, fontsize=12, fontweight='black', color = '#333F4B')\n",
    "    ax.tick_params(axis='both', which='major', labelsize=12)\n",
    "    barplot=ax.bar(x_values, y_values)\n",
    "    ax.set_title(chart_title,fontsize=15, fontweight='black', color = '#333F4B')\n",
    "    return barplot, fig, ax"
   ]
  },
  {
   "cell_type": "code",
   "execution_count": 9,
   "metadata": {},
   "outputs": [],
   "source": [
    "#creating a horizontal barchart\n",
    "def create_barhplot(x_values, y_values, x_label, chart_title, figsize=(10,6), **kwargs):\n",
    "    \"\"\" Function for creating barplots\n",
    "    INPUTS:\n",
    "    x_values: df column that should be displayed on x axis of the plot\n",
    "    y_values: df column that should be displayed on y axis of the plot\n",
    "    x_label: the label that will be displayed on the x axis\n",
    "    chart_title: Title of the chart, plotted above the graph\n",
    "    figwidth: width of figure, default=10\n",
    "    figheight: height of figure, default=6\n",
    "    figsize: size of graph\n",
    "    **kwargs: possibility to add further variables, like y_label, if necessary > would need to be extended in the function\n",
    "    currently only plotting an x-axis title\n",
    "    OUTPUTS:\n",
    "    barplot: the graph\n",
    "    fig: the figure element\n",
    "    ax: axis element, necessary for running the autolabel function\n",
    "    \"\"\"\n",
    "    fig, ax = plt.subplots(figsize=figsize)\n",
    "    plt.style.use('seaborn-dark')\n",
    "    ax.set_xlabel(x_label, fontsize=12, fontweight='black', color = '#333F4B')\n",
    "    ax.tick_params(axis='both', which='major', labelsize=12)\n",
    "    barplot=ax.barh(x_values, y_values)\n",
    "    ax.set_title(chart_title,fontsize=15, fontweight='black', color = '#333F4B')\n",
    "    return barplot, fig, ax"
   ]
  },
  {
   "cell_type": "code",
   "execution_count": 10,
   "metadata": {},
   "outputs": [],
   "source": [
    "#https://matplotlib.org/3.1.1/gallery/lines_bars_and_markers/barchart.html\n",
    "def autolabel(continents):\n",
    "    \"\"\"Attach a text label above each bar in the x_values displayed in the barchart, displaying its height.\"\"\"\n",
    "    for continent in continents:\n",
    "        height = continent.get_height()\n",
    "        ax.annotate('{}'.format(round(height,2)), fontsize=12,\n",
    "                    xy=(continent.get_x() + continent.get_width() / 2, height),\n",
    "                    xytext=(0, 3),  # 3 points vertical offset\n",
    "                    textcoords=\"offset points\",\n",
    "                    ha='center', va='bottom')"
   ]
  },
  {
   "cell_type": "markdown",
   "metadata": {},
   "source": [
    "__Variables of interest: Age1stCode, Country__: Difference of 1st age coding across countries/continents? (maybe due to different education systems)"
   ]
  },
  {
   "cell_type": "code",
   "execution_count": 11,
   "metadata": {},
   "outputs": [
    {
     "data": {
      "text/plain": [
       "array(['10', '17', '22', '16', '14', '15', '11', '20', '13', '18', '12',\n",
       "       '19', '21', '8', '35', '6', '9', '29', '7', '5', '23', '30', nan,\n",
       "       '27', '24', 'Younger than 5 years', '33', '25', '26', '39', '36',\n",
       "       '38', '28', '31', 'Older than 85', '32', '37', '50', '65', '42',\n",
       "       '34', '40', '67', '43', '44', '60', '46', '45', '49', '51', '41',\n",
       "       '55', '83', '48', '53', '54', '47', '56', '79', '61', '68', '77',\n",
       "       '66', '52', '80', '62', '84', '57', '58', '63'], dtype=object)"
      ]
     },
     "execution_count": 11,
     "metadata": {},
     "output_type": "execute_result"
    }
   ],
   "source": [
    "#Investigated the variables we want to use\n",
    "df['Age1stCode'].unique()"
   ]
  },
  {
   "cell_type": "markdown",
   "metadata": {},
   "source": [
    "We need to clean two values in order to be able to transform the variable to numeric and drop nan values. Imputation does not make much sense, as age is a factor that we cannot impute well from the dataset and would thereby also add faulty information to our analysis.\n",
    "I decided to impute the value \"1\" for age information \"Younger than 5 years\" and \"86\" for \"Older than 85\" in order not to lose information about these cases."
   ]
  },
  {
   "cell_type": "code",
   "execution_count": 12,
   "metadata": {},
   "outputs": [],
   "source": [
    "#clean Age column in order to transform it to integer type\n",
    "df_age=df.dropna(subset=['Age1stCode'], axis=0).copy()\n",
    "index_to_change=df_age.query('Age1stCode==\"Younger than 5 years\"').index\n",
    "df_age.at[index_to_change, 'Age1stCode']='1'\n",
    "index_to_change=df_age.query('Age1stCode==\"Older than 85\"').index\n",
    "df_age.at[index_to_change, 'Age1stCode']='86'\n",
    "df_age['Age1stCode']=df_age['Age1stCode'].astype(int)"
   ]
  },
  {
   "cell_type": "code",
   "execution_count": 13,
   "metadata": {},
   "outputs": [
    {
     "data": {
      "text/plain": [
       "Country\n",
       "United States                            20735\n",
       "India                                     8834\n",
       "Germany                                   5801\n",
       "United Kingdom                            5693\n",
       "Canada                                    3351\n",
       "France                                    2376\n",
       "Brazil                                    1943\n",
       "Poland                                    1903\n",
       "Australia                                 1881\n",
       "Netherlands                               1838\n",
       "Russian Federation                        1672\n",
       "Spain                                     1588\n",
       "Italy                                     1559\n",
       "Sweden                                    1264\n",
       "Switzerland                                965\n",
       "Israel                                     941\n",
       "Turkey                                     938\n",
       "Pakistan                                   910\n",
       "Ukraine                                    856\n",
       "Austria                                    827\n",
       "Czech Republic                             755\n",
       "Romania                                    755\n",
       "Iran                                       727\n",
       "Belgium                                    719\n",
       "Bulgaria                                   651\n",
       "China                                      644\n",
       "Mexico                                     638\n",
       "South Africa                               624\n",
       "Denmark                                    610\n",
       "Bangladesh                                 586\n",
       "                                         ...  \n",
       "Mali                                         3\n",
       "Burundi                                      3\n",
       "Guyana                                       3\n",
       "Lesotho                                      3\n",
       "Lao People's Democratic Republic             3\n",
       "Belize                                       3\n",
       "Liechtenstein                                3\n",
       "Guinea                                       3\n",
       "Bahamas                                      3\n",
       "Barbados                                     2\n",
       "Liberia                                      2\n",
       "Bhutan                                       2\n",
       "Malawi                                       2\n",
       "Gabon                                        2\n",
       "Seychelles                                   2\n",
       "Cape Verde                                   2\n",
       "San Marino                                   2\n",
       "Sierra Leone                                 2\n",
       "Djibouti                                     2\n",
       "Democratic People's Republic of Korea        2\n",
       "Niger                                        1\n",
       "North Korea                                  1\n",
       "Dominica                                     1\n",
       "Saint Kitts and Nevis                        1\n",
       "Papua New Guinea                             1\n",
       "Timor-Leste                                  1\n",
       "Saint Vincent and the Grenadines             1\n",
       "Sao Tome and Principe                        1\n",
       "Brunei Darussalam                            1\n",
       "Chad                                         1\n",
       "Name: Respondent, Length: 178, dtype: int64"
      ]
     },
     "execution_count": 13,
     "metadata": {},
     "output_type": "execute_result"
    }
   ],
   "source": [
    "#Check how many respondents we have per country\n",
    "df_age.groupby('Country')['Respondent'].count().sort_values(ascending=False)"
   ]
  },
  {
   "cell_type": "markdown",
   "metadata": {},
   "source": [
    "As we have a lot of countries with very little participants, using information from these countries for a country based analysis would be dilluting, e.g. in mean values. Therefore I will only use countries with at least 15 participants in order to get relevant values when e.g. checking the mean age."
   ]
  },
  {
   "cell_type": "code",
   "execution_count": 14,
   "metadata": {},
   "outputs": [],
   "source": [
    "#limit to countries with at least 15 participants\n",
    "df_age_country= pd.DataFrame(df_age['Country'].value_counts() > 15)\n",
    "df_age_country=df_age_country.reset_index()\n",
    "df_age_country=df_age_country.query('Country==True')"
   ]
  },
  {
   "cell_type": "code",
   "execution_count": 15,
   "metadata": {},
   "outputs": [],
   "source": [
    "#get the mean age of 1st coding experience for those countries\n",
    "country_list=df_age_country['index'].to_list()\n",
    "df_age_filtered=df_age[df_age['Country'].isin(country_list)]\n",
    "df_country=df_age_filtered.groupby('Country')['Age1stCode'].mean().sort_values()"
   ]
  },
  {
   "cell_type": "code",
   "execution_count": 16,
   "metadata": {},
   "outputs": [
    {
     "data": {
      "text/plain": [
       "122"
      ]
     },
     "execution_count": 16,
     "metadata": {},
     "output_type": "execute_result"
    }
   ],
   "source": [
    "len(df_country)"
   ]
  },
  {
   "cell_type": "markdown",
   "metadata": {},
   "source": [
    "As we have 122 countries in our mean value dataset, an analyis on country basis would be really difficult to interpret and to visualize. Therefore I had the idea to merge each country with the respective continent and analyze the mean age on continent level."
   ]
  },
  {
   "cell_type": "code",
   "execution_count": 17,
   "metadata": {},
   "outputs": [],
   "source": [
    "#https://gist.github.com/pamelafox/986163\n",
    "#python file with the country-continent information was found under the above link\n",
    "#import a python file which has continent information for all countries in order to merge the information\n",
    "from countryinfo import countries"
   ]
  },
  {
   "cell_type": "code",
   "execution_count": 18,
   "metadata": {},
   "outputs": [],
   "source": [
    "#create a dataframe from the python file input\n",
    "data=pd.DataFrame()\n",
    "for i in countries:\n",
    "    country=pd.DataFrame(i)\n",
    "    data=data.append(country, ignore_index=True)"
   ]
  },
  {
   "cell_type": "code",
   "execution_count": 19,
   "metadata": {},
   "outputs": [],
   "source": [
    "#clean dataframe, dropping duplicates as from merging we have lots of duplicate country rows and only need one per country\n",
    "data.drop_duplicates(subset=['name'], keep='first', inplace=True)\n",
    "data=data.reset_index(drop=True)"
   ]
  },
  {
   "cell_type": "code",
   "execution_count": 20,
   "metadata": {},
   "outputs": [
    {
     "name": "stdout",
     "output_type": "stream",
     "text": [
      "   Age1stCode            timezones code continent            name     capital\n",
      "1   13.917881        Europe/Prague   CZ    Europe  Czech Republic      Prague\n",
      "2   14.058932      Europe/Helsinki   FI    Europe         Finland    Helsinki\n",
      "3   14.155769     Pacific/Auckland   NZ   Oceania     New Zealand  Wellington\n",
      "4   14.186215        Europe/Vienna   AT    Europe         Austria      Vienna\n",
      "5   14.209463  Australia/Lord_Howe   AU   Oceania       Australia    Canberra\n"
     ]
    }
   ],
   "source": [
    "#merge the continent dataframe with our previous df on country information\n",
    "df_withcontinent=pd.merge(df_country, data, how='left', left_on='Country', right_on='name')\n",
    "#drop rows that don't have a continent information\n",
    "df_withcontinent=df_withcontinent.dropna(subset=['continent'], axis=0)\n",
    "print(df_withcontinent.head())"
   ]
  },
  {
   "cell_type": "markdown",
   "metadata": {},
   "source": [
    "### Data Modelling: Part 1"
   ]
  },
  {
   "cell_type": "code",
   "execution_count": 21,
   "metadata": {},
   "outputs": [],
   "source": [
    "#extract information for visual analysis (mean age of 1st coding experience by continent)\n",
    "continent_means=df_withcontinent.groupby('continent')['Age1stCode'].mean().sort_values(ascending=False).values\n",
    "continents=df_withcontinent.groupby('continent')['Age1stCode'].mean().sort_values(ascending=False).index"
   ]
  },
  {
   "cell_type": "code",
   "execution_count": 22,
   "metadata": {},
   "outputs": [
    {
     "data": {
      "image/png": "[encoded data removed]",
      "text/plain": [
       "<Figure size 720x432 with 1 Axes>"
      ]
     },
     "metadata": {
      "needs_background": "light"
     },
     "output_type": "display_data"
    }
   ],
   "source": [
    "#bar chart for analyzing the mean age of 1st coding experience by continents\n",
    "barplot, fig, ax = create_barplot(x_values=continents, y_values=continent_means, x_label='Continents', chart_title='Age of 1st coding experience by continent')\n",
    "\n",
    "autolabel(barplot)\n",
    "cur_axes = plt.gca()\n",
    "cur_axes.axes.get_yaxis().set_visible(False)\n",
    "plt.savefig('1stcoding_by_continent.png');"
   ]
  },
  {
   "cell_type": "markdown",
   "metadata": {},
   "source": [
    "Clear differences in mean age of 1st coding experience by continent can be derived from the graph. African particpants were on average the oldest with a mean age of 18.22 years while Oceanian participants the youngest when getting first in touch with coding with a mean age of 14.18 years."
   ]
  },
  {
   "cell_type": "markdown",
   "metadata": {},
   "source": [
    "### Data Prepartion: Part 2"
   ]
  },
  {
   "cell_type": "markdown",
   "metadata": {},
   "source": [
    "__Variables of interest: Age, Age1stCode__: Difference of 1st age coding across the different answer groups? > assumption: gets younger for younger participants (digital natives)"
   ]
  },
  {
   "cell_type": "code",
   "execution_count": 23,
   "metadata": {},
   "outputs": [
    {
     "data": {
      "text/plain": [
       "array([14. , 19. , 28. , 22. , 30. , 42. , 24. , 23. ,  nan, 21. , 31. ,\n",
       "       20. , 26. , 29. , 38. , 47. , 34. , 32. , 25. , 17. , 35. , 27. ,\n",
       "       44. , 43. , 62. , 37. , 45. , 18. , 33. , 36. , 16. , 39. , 64. ,\n",
       "       41. , 54. , 49. , 40. , 56. , 12. , 58. , 46. , 59. , 51. , 48. ,\n",
       "       57. , 52. , 50. , 23.9, 55. , 15. , 67. , 13. ,  1. , 53. , 69. ,\n",
       "       65. , 17.5, 63. , 61. , 68. , 73. , 70. , 60. , 16.5, 46.5, 11. ,\n",
       "       71. ,  3. , 97. , 29.5, 77. , 74. , 26.5, 26.3, 24.5, 78. , 72. ,\n",
       "       66. , 76. , 10. , 75. , 99. , 83. , 79. , 36.8, 14.1, 13.5, 19.5,\n",
       "       98. , 43.5, 22.5, 31.5, 21.5, 28.5, 33.6,  2. , 38.5, 30.8, 24.8,\n",
       "       61.3, 81. ,  4. , 17.3, 19.9, 80. , 85. , 88. , 23.5, 16.9, 20.9,\n",
       "       91. , 98.9, 57.9,  9. , 94. , 95. , 37.5, 14.5,  5. , 82. , 84. ,\n",
       "       37.3, 33.5, 53.8, 31.4, 87. ])"
      ]
     },
     "execution_count": 23,
     "metadata": {},
     "output_type": "execute_result"
    }
   ],
   "source": [
    "df_age['Age'].unique()"
   ]
  },
  {
   "cell_type": "code",
   "execution_count": 24,
   "metadata": {},
   "outputs": [
    {
     "data": {
      "text/html": [
       "<div>\n",
       "<style scoped>\n",
       "    .dataframe tbody tr th:only-of-type {\n",
       "        vertical-align: middle;\n",
       "    }\n",
       "\n",
       "    .dataframe tbody tr th {\n",
       "        vertical-align: top;\n",
       "    }\n",
       "\n",
       "    .dataframe thead th {\n",
       "        text-align: right;\n",
       "    }\n",
       "</style>\n",
       "<table border=\"1\" class=\"dataframe\">\n",
       "  <thead>\n",
       "    <tr style=\"text-align: right;\">\n",
       "      <th></th>\n",
       "      <th>Respondent</th>\n",
       "      <th>MainBranch</th>\n",
       "      <th>Hobbyist</th>\n",
       "      <th>OpenSourcer</th>\n",
       "      <th>OpenSource</th>\n",
       "      <th>Employment</th>\n",
       "      <th>Country</th>\n",
       "      <th>Student</th>\n",
       "      <th>EdLevel</th>\n",
       "      <th>UndergradMajor</th>\n",
       "      <th>...</th>\n",
       "      <th>WelcomeChange</th>\n",
       "      <th>SONewContent</th>\n",
       "      <th>Age</th>\n",
       "      <th>Gender</th>\n",
       "      <th>Trans</th>\n",
       "      <th>Sexuality</th>\n",
       "      <th>Ethnicity</th>\n",
       "      <th>Dependents</th>\n",
       "      <th>SurveyLength</th>\n",
       "      <th>SurveyEase</th>\n",
       "    </tr>\n",
       "  </thead>\n",
       "  <tbody>\n",
       "    <tr>\n",
       "      <th>719</th>\n",
       "      <td>722</td>\n",
       "      <td>I am a developer by profession</td>\n",
       "      <td>No</td>\n",
       "      <td>Less than once a month but more than once per ...</td>\n",
       "      <td>The quality of OSS and closed source software ...</td>\n",
       "      <td>NaN</td>\n",
       "      <td>Afghanistan</td>\n",
       "      <td>NaN</td>\n",
       "      <td>NaN</td>\n",
       "      <td>NaN</td>\n",
       "      <td>...</td>\n",
       "      <td>Not applicable - I did not use Stack Overflow ...</td>\n",
       "      <td>NaN</td>\n",
       "      <td>1.0</td>\n",
       "      <td>NaN</td>\n",
       "      <td>NaN</td>\n",
       "      <td>NaN</td>\n",
       "      <td>NaN</td>\n",
       "      <td>NaN</td>\n",
       "      <td>Too long</td>\n",
       "      <td>Difficult</td>\n",
       "    </tr>\n",
       "    <tr>\n",
       "      <th>4818</th>\n",
       "      <td>4841</td>\n",
       "      <td>I am a developer by profession</td>\n",
       "      <td>Yes</td>\n",
       "      <td>Once a month or more often</td>\n",
       "      <td>The quality of OSS and closed source software ...</td>\n",
       "      <td>Employed full-time</td>\n",
       "      <td>United States</td>\n",
       "      <td>No</td>\n",
       "      <td>Some college/university study without earning ...</td>\n",
       "      <td>A humanities discipline (ex. literature, histo...</td>\n",
       "      <td>...</td>\n",
       "      <td>Just as welcome now as I felt last year</td>\n",
       "      <td>Tech articles written by other developers;Cour...</td>\n",
       "      <td>3.0</td>\n",
       "      <td>Man</td>\n",
       "      <td>No</td>\n",
       "      <td>NaN</td>\n",
       "      <td>NaN</td>\n",
       "      <td>Yes</td>\n",
       "      <td>Too long</td>\n",
       "      <td>Neither easy nor difficult</td>\n",
       "    </tr>\n",
       "    <tr>\n",
       "      <th>8802</th>\n",
       "      <td>8840</td>\n",
       "      <td>I am a student who is learning to code</td>\n",
       "      <td>Yes</td>\n",
       "      <td>Less than once a month but more than once per ...</td>\n",
       "      <td>OSS is, on average, of LOWER quality than prop...</td>\n",
       "      <td>Not employed, and not looking for work</td>\n",
       "      <td>Canada</td>\n",
       "      <td>No</td>\n",
       "      <td>NaN</td>\n",
       "      <td>Mathematics or statistics</td>\n",
       "      <td>...</td>\n",
       "      <td>A lot less welcome now than last year</td>\n",
       "      <td>Courses on technologies you're interested in</td>\n",
       "      <td>10.0</td>\n",
       "      <td>Man</td>\n",
       "      <td>No</td>\n",
       "      <td>NaN</td>\n",
       "      <td>NaN</td>\n",
       "      <td>NaN</td>\n",
       "      <td>NaN</td>\n",
       "      <td>NaN</td>\n",
       "    </tr>\n",
       "    <tr>\n",
       "      <th>9613</th>\n",
       "      <td>9654</td>\n",
       "      <td>I am a developer by profession</td>\n",
       "      <td>Yes</td>\n",
       "      <td>Once a month or more often</td>\n",
       "      <td>NaN</td>\n",
       "      <td>Employed full-time</td>\n",
       "      <td>France</td>\n",
       "      <td>No</td>\n",
       "      <td>Other doctoral degree (Ph.D, Ed.D., etc.)</td>\n",
       "      <td>Another engineering discipline (ex. civil, ele...</td>\n",
       "      <td>...</td>\n",
       "      <td>Just as welcome now as I felt last year</td>\n",
       "      <td>NaN</td>\n",
       "      <td>1.0</td>\n",
       "      <td>Man</td>\n",
       "      <td>No</td>\n",
       "      <td>Straight / Heterosexual</td>\n",
       "      <td>NaN</td>\n",
       "      <td>Yes</td>\n",
       "      <td>Appropriate in length</td>\n",
       "      <td>Easy</td>\n",
       "    </tr>\n",
       "    <tr>\n",
       "      <th>11799</th>\n",
       "      <td>11853</td>\n",
       "      <td>I am a developer by profession</td>\n",
       "      <td>Yes</td>\n",
       "      <td>Never</td>\n",
       "      <td>The quality of OSS and closed source software ...</td>\n",
       "      <td>Employed full-time</td>\n",
       "      <td>United States</td>\n",
       "      <td>Yes, full-time</td>\n",
       "      <td>Bachelor’s degree (BA, BS, B.Eng., etc.)</td>\n",
       "      <td>Computer science, computer engineering, or sof...</td>\n",
       "      <td>...</td>\n",
       "      <td>Just as welcome now as I felt last year</td>\n",
       "      <td>NaN</td>\n",
       "      <td>1.0</td>\n",
       "      <td>NaN</td>\n",
       "      <td>No</td>\n",
       "      <td>Straight / Heterosexual</td>\n",
       "      <td>White or of European descent</td>\n",
       "      <td>NaN</td>\n",
       "      <td>Too long</td>\n",
       "      <td>Neither easy nor difficult</td>\n",
       "    </tr>\n",
       "  </tbody>\n",
       "</table>\n",
       "<p>5 rows × 85 columns</p>\n",
       "</div>"
      ],
      "text/plain": [
       "       Respondent                              MainBranch Hobbyist  \\\n",
       "719           722          I am a developer by profession       No   \n",
       "4818         4841          I am a developer by profession      Yes   \n",
       "8802         8840  I am a student who is learning to code      Yes   \n",
       "9613         9654          I am a developer by profession      Yes   \n",
       "11799       11853          I am a developer by profession      Yes   \n",
       "\n",
       "                                             OpenSourcer  \\\n",
       "719    Less than once a month but more than once per ...   \n",
       "4818                          Once a month or more often   \n",
       "8802   Less than once a month but more than once per ...   \n",
       "9613                          Once a month or more often   \n",
       "11799                                              Never   \n",
       "\n",
       "                                              OpenSource  \\\n",
       "719    The quality of OSS and closed source software ...   \n",
       "4818   The quality of OSS and closed source software ...   \n",
       "8802   OSS is, on average, of LOWER quality than prop...   \n",
       "9613                                                 NaN   \n",
       "11799  The quality of OSS and closed source software ...   \n",
       "\n",
       "                                   Employment        Country         Student  \\\n",
       "719                                       NaN    Afghanistan             NaN   \n",
       "4818                       Employed full-time  United States              No   \n",
       "8802   Not employed, and not looking for work         Canada              No   \n",
       "9613                       Employed full-time         France              No   \n",
       "11799                      Employed full-time  United States  Yes, full-time   \n",
       "\n",
       "                                                 EdLevel  \\\n",
       "719                                                  NaN   \n",
       "4818   Some college/university study without earning ...   \n",
       "8802                                                 NaN   \n",
       "9613           Other doctoral degree (Ph.D, Ed.D., etc.)   \n",
       "11799           Bachelor’s degree (BA, BS, B.Eng., etc.)   \n",
       "\n",
       "                                          UndergradMajor  ...  \\\n",
       "719                                                  NaN  ...   \n",
       "4818   A humanities discipline (ex. literature, histo...  ...   \n",
       "8802                           Mathematics or statistics  ...   \n",
       "9613   Another engineering discipline (ex. civil, ele...  ...   \n",
       "11799  Computer science, computer engineering, or sof...  ...   \n",
       "\n",
       "                                           WelcomeChange  \\\n",
       "719    Not applicable - I did not use Stack Overflow ...   \n",
       "4818             Just as welcome now as I felt last year   \n",
       "8802               A lot less welcome now than last year   \n",
       "9613             Just as welcome now as I felt last year   \n",
       "11799            Just as welcome now as I felt last year   \n",
       "\n",
       "                                            SONewContent   Age Gender  Trans  \\\n",
       "719                                                  NaN   1.0    NaN    NaN   \n",
       "4818   Tech articles written by other developers;Cour...   3.0    Man     No   \n",
       "8802        Courses on technologies you're interested in  10.0    Man     No   \n",
       "9613                                                 NaN   1.0    Man     No   \n",
       "11799                                                NaN   1.0    NaN     No   \n",
       "\n",
       "                     Sexuality                     Ethnicity Dependents  \\\n",
       "719                        NaN                           NaN        NaN   \n",
       "4818                       NaN                           NaN        Yes   \n",
       "8802                       NaN                           NaN        NaN   \n",
       "9613   Straight / Heterosexual                           NaN        Yes   \n",
       "11799  Straight / Heterosexual  White or of European descent        NaN   \n",
       "\n",
       "                SurveyLength                  SurveyEase  \n",
       "719                 Too long                   Difficult  \n",
       "4818                Too long  Neither easy nor difficult  \n",
       "8802                     NaN                         NaN  \n",
       "9613   Appropriate in length                        Easy  \n",
       "11799               Too long  Neither easy nor difficult  \n",
       "\n",
       "[5 rows x 85 columns]"
      ]
     },
     "execution_count": 24,
     "metadata": {},
     "output_type": "execute_result"
    }
   ],
   "source": [
    "df_age.query('Age <=10').head()"
   ]
  },
  {
   "cell_type": "markdown",
   "metadata": {},
   "source": [
    "As we have a lot of different age values and also floating values, I will create age buckets in decades for my analysis to make more sense of the data. Moreover, by inspecting the data of participants that stated an age of 10 or younger, I think that this data looks like incorrectly input data because most of them already have completed education, therefore I will drop this rows as the seem to be incorrect data points. As I wrote above, imputing age values is quite difficult, as it might dillute the analysis if done incorrectly."
   ]
  },
  {
   "cell_type": "code",
   "execution_count": 25,
   "metadata": {},
   "outputs": [],
   "source": [
    "#https://stackoverflow.com/questions/32633977/how-to-create-categorical-variable-based-on-a-numerical-variable\n",
    "#create buckets from the age variable\n",
    "df_age['Age_bucketed'] = pd.cut(df_age['Age'], bins=[0, 10, 20, 30, 40, 50, 60, 70, float('Inf')], labels=['under10', '10-20', '20-30', '30-40', '40-50', '50-60', '60-70', '70 and older'])"
   ]
  },
  {
   "cell_type": "code",
   "execution_count": 26,
   "metadata": {},
   "outputs": [],
   "source": [
    "#Data of under 10 years seems unplausible > drop those rows\n",
    "index_to_drop=df_age.query('Age <=10').index\n",
    "df_age.drop(index_to_drop, inplace=True)"
   ]
  },
  {
   "cell_type": "code",
   "execution_count": 27,
   "metadata": {},
   "outputs": [
    {
     "data": {
      "text/plain": [
       "20-30           40419\n",
       "30-40           21935\n",
       "10-20            6911\n",
       "40-50            6645\n",
       "50-60            2206\n",
       "60-70             568\n",
       "70 and older      153\n",
       "under10             0\n",
       "Name: Age_bucketed, dtype: int64"
      ]
     },
     "execution_count": 27,
     "metadata": {},
     "output_type": "execute_result"
    }
   ],
   "source": [
    "#overview of the buckets\n",
    "df_age['Age_bucketed'].value_counts()"
   ]
  },
  {
   "cell_type": "markdown",
   "metadata": {},
   "source": [
    "Most participants fall in the age buckets of 20-30 and 30-40 with only very little older particpants, ie. above 60."
   ]
  },
  {
   "cell_type": "markdown",
   "metadata": {},
   "source": [
    "### Data Modelling: Part 2"
   ]
  },
  {
   "cell_type": "code",
   "execution_count": 28,
   "metadata": {},
   "outputs": [
    {
     "data": {
      "image/png": "[encoded data removed]",
      "text/plain": [
       "<Figure size 720x432 with 1 Axes>"
      ]
     },
     "metadata": {},
     "output_type": "display_data"
    }
   ],
   "source": [
    "#plot barcharts for age groups and 1st coding experience means\n",
    "age_bucketed_vals=df_age.groupby('Age_bucketed')['Age1stCode'].mean().values\n",
    "age_bucketed_idx=df_age.groupby('Age_bucketed')['Age1stCode'].mean().index\n",
    "\n",
    "barplot, fig, ax = create_barhplot(x_values=age_bucketed_idx, y_values=age_bucketed_vals, x_label='Age of 1st coding experience', chart_title='Age of 1st coding experience by age groups')\n",
    "plt.savefig('age1stcoding_by_agegroups');"
   ]
  },
  {
   "cell_type": "markdown",
   "metadata": {},
   "source": [
    "The older the participants are, the older they were on average when they first got in touch with coding. An exception poses the 40-50 year old bucket. A hypothesis could be the dawn of technological advances like the C64 that fell in their youth, maybe sparking interest for coding early on in their lives."
   ]
  },
  {
   "cell_type": "markdown",
   "metadata": {},
   "source": [
    "### Data Prepartion: Part 3"
   ]
  },
  {
   "cell_type": "markdown",
   "metadata": {},
   "source": [
    "__Variables of interest: Age1stCode, Gender:__ Difference of gender regarding 1st coding experience?"
   ]
  },
  {
   "cell_type": "code",
   "execution_count": 29,
   "metadata": {},
   "outputs": [
    {
     "data": {
      "text/plain": [
       "Man                                                            77338\n",
       "Woman                                                           6272\n",
       "Non-binary, genderqueer, or gender non-conforming                582\n",
       "Man;Non-binary, genderqueer, or gender non-conforming            178\n",
       "Woman;Non-binary, genderqueer, or gender non-conforming          161\n",
       "Woman;Man                                                        123\n",
       "Woman;Man;Non-binary, genderqueer, or gender non-conforming       66\n",
       "Name: Gender, dtype: int64"
      ]
     },
     "execution_count": 29,
     "metadata": {},
     "output_type": "execute_result"
    }
   ],
   "source": [
    "df_age.Gender.value_counts()"
   ]
  },
  {
   "cell_type": "markdown",
   "metadata": {},
   "source": [
    "We need to clean the column to make sense of it for analyzing further. I will group all values different from \"Man\" and \"Woman\" to a bucket \"Other\" in order not to lose the information. Nevertheless as participants stated more than one answer in this multiple choice question, I also don't want to keep all listed options in the analysis as they will disturb a clear and concise analysis."
   ]
  },
  {
   "cell_type": "code",
   "execution_count": 30,
   "metadata": {},
   "outputs": [],
   "source": [
    "#clean up gender column by assigning non-\"Man\" or \"Woman\" values to bucket \"other\"\n",
    "df_gender=df_age.copy()\n",
    "index_other=df_gender.query('Gender not in [\"Man\", \"Woman\"]').index\n",
    "df_gender.at[index_other, 'Gender']=\"Other\""
   ]
  },
  {
   "cell_type": "markdown",
   "metadata": {},
   "source": [
    "### Data Modelling: Part 3"
   ]
  },
  {
   "cell_type": "code",
   "execution_count": 31,
   "metadata": {
    "scrolled": true
   },
   "outputs": [
    {
     "data": {
      "image/png": "[encoded data removed]",
      "text/plain": [
       "<Figure size 576x360 with 1 Axes>"
      ]
     },
     "metadata": {},
     "output_type": "display_data"
    }
   ],
   "source": [
    "#plot gender vs. age of 1st coding experience\n",
    "age_bucketed_vals_gend=df_gender.groupby('Gender')['Age1stCode'].mean().sort_values(ascending=False).values\n",
    "age_bucketed_idx_gend=df_gender.groupby('Gender')['Age1stCode'].mean().sort_values(ascending=False).index\n",
    "\n",
    "barplot, fig, ax = create_barplot(x_values=age_bucketed_idx_gend, y_values=age_bucketed_vals_gend, x_label='Age of 1st coding experience', chart_title='Age of 1st coding experience by gender', figwidth=8, figheight=5)\n",
    "autolabel(barplot)\n",
    "cur_axes = plt.gca()\n",
    "cur_axes.axes.get_yaxis().set_visible(False)\n",
    "plt.savefig('age1stcoding_by_gender');"
   ]
  },
  {
   "cell_type": "markdown",
   "metadata": {},
   "source": [
    "On average the age of first coding experience for male respondents is 15.27 years and thereby nearly two years younger than the average age for female respondents (17.04 years)."
   ]
  },
  {
   "cell_type": "markdown",
   "metadata": {},
   "source": [
    "__Gender__: Can we find evidence for a gender pay gap in the participants of the study?"
   ]
  },
  {
   "cell_type": "code",
   "execution_count": 32,
   "metadata": {},
   "outputs": [
    {
     "name": "stdout",
     "output_type": "stream",
     "text": [
      "The dateset consists of 88.0% male respondents.\n",
      "The dateset consists of 7.0% female respondents.\n",
      "The dateset consists of 5.0% respondents that stated other options for gender.\n"
     ]
    }
   ],
   "source": [
    "#what is the share of men and women in the dataset?\n",
    "count_man=df_gender.query('Gender == \"Man\"')['Respondent'].count()\n",
    "count_woman=df_gender.query('Gender == \"Woman\"')['Respondent'].count()\n",
    "count_other=df_gender.query('Gender == \"Other\"')['Respondent'].count()\n",
    "share_man=count_man/df_gender.shape[0]\n",
    "share_woman=count_woman/df_gender.shape[0]\n",
    "share_other=count_other/df_gender.shape[0]\n",
    "print(\"The dateset consists of \" + str(round(share_man*100)) +\"% male respondents.\")\n",
    "print(\"The dateset consists of \" + str(round(share_woman*100)) +\"% female respondents.\")\n",
    "print(\"The dateset consists of \" + str(round(share_other*100)) +\"% respondents that stated other options for gender.\")"
   ]
  },
  {
   "cell_type": "markdown",
   "metadata": {},
   "source": [
    "__performing a t-test for checking whether salaries for men and women are alike__\n",
    "H0 being that the salaries for men and women in the dataset are not different from one another, and H1 being the alternative that they are different from one another."
   ]
  },
  {
   "cell_type": "markdown",
   "metadata": {},
   "source": [
    "\n",
    "$$H_0: \\mu_{salary_m} - \\mu_{salary_f} = 0$$\n",
    "\n",
    "\n",
    "$$H_0: \\mu_{salary_m} - \\mu_{salary_f} \\neq 0$$"
   ]
  },
  {
   "cell_type": "code",
   "execution_count": 33,
   "metadata": {},
   "outputs": [],
   "source": [
    "#drop rows that don't have a salary information included; as I want to investigate the salary information,\n",
    "#rows with no information will be of no use for the analysis, imputing would risk a wrong outcome as salary is very individual\n",
    "#and might also differ for respondents with alike characteristics, e.g. due to their negotiation successes\n",
    "df_gender_filtered=df_gender.dropna(subset=['ConvertedComp'], axis=0).copy()"
   ]
  },
  {
   "cell_type": "code",
   "execution_count": 34,
   "metadata": {},
   "outputs": [
    {
     "name": "stdout",
     "output_type": "stream",
     "text": [
      "p :0.37732248157106174\n",
      "we accept null hypothesis\n"
     ]
    }
   ],
   "source": [
    "#because of the different share of men and women in the dataset, I am going to split the dataset into two separate df's\n",
    "#that I am going to take seperate samples from in order to get equal sample sizes\n",
    "#from every sample I am going to calculate a p-value and take the mean over these p-values in order to eliminate\n",
    "#some randomness from taking a single sample\n",
    "p_values = []\n",
    "\n",
    "df_men=df_gender_filtered.query('Gender ==\"Man\"')\n",
    "df_women=df_gender_filtered.query('Gender == \"Woman\"')\n",
    "\n",
    "for _ in range(10000):\n",
    "    sample_men = df_men['ConvertedComp'].sample(800, replace = True)\n",
    "    sample_women = df_women['ConvertedComp'].sample(800, replace = True)\n",
    "    # calcuate p-value for this sample and append the info to array\n",
    "    ttest,pval = ttest_ind(sample_men,sample_women)\n",
    "    p_values.append(pval)\n",
    "\n",
    "p=sum(p_values)/len(p_values)\n",
    "print(\"p :\" + str(p))\n",
    "\n",
    "if pval <0.05:\n",
    "  print(\"we reject null hypothesis\")\n",
    "else:\n",
    "  print(\"we accept null hypothesis\")"
   ]
  },
  {
   "cell_type": "markdown",
   "metadata": {},
   "source": [
    "### Results Evaluation"
   ]
  },
  {
   "cell_type": "markdown",
   "metadata": {},
   "source": [
    "The analysis showed clear differences among the investigated groups and their mean age of first coding experience. A more detailed analysis of all results can be found in this [blogpost](https://medium.com/@jrgrec/coding-start-them-young-b83cf760e9b4)."
   ]
  }
 ],
 "metadata": {
  "kernelspec": {
   "display_name": "Python 3",
   "language": "python",
   "name": "python3"
  },
  "language_info": {
   "codemirror_mode": {
    "name": "ipython",
    "version": 3
   },
   "file_extension": ".py",
   "mimetype": "text/x-python",
   "name": "python",
   "nbconvert_exporter": "python",
   "pygments_lexer": "ipython3",
   "version": "3.7.3"
  }
 },
 "nbformat": 4,
 "nbformat_minor": 2
}
